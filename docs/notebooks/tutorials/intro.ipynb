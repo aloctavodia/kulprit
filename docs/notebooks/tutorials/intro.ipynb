{
 "cells": [
  {
   "attachments": {},
   "cell_type": "markdown",
   "metadata": {},
   "source": [
    "# kulprit: Kullback-Leibler projections for Bayesian model selection in Python\n",
    "\n",
    "## Introduction to projection predictive model selection\n",
    "\n",
    "The Bayesian community has recently witnessed a rapid growth in theoretical and applied contributions to building and selecting predictive models. Projection predictive inference, based on the ideas of Goutis and Robert (1998) and Dupuis and Robert (2003), in particular has shown promise in doing so, finding application in medical statistics and deep learning. It is less prone to over-fitting than naïve selection based purely on cross-validated performance metrics, and has been known to out-perform the maximum _a posteriori_ model in terms of predictive performance.\n",
    "\n",
    "## Data\n",
    "\n",
    "For this tutorial we will use some simple simulated data following a Gaussian observation model. We simulate $n = 100$ samples from $p = 10$ covariates of which $5$ are informative using `sklearn`."
   ]
  },
  {
   "cell_type": "code",
   "execution_count": 30,
   "metadata": {},
   "outputs": [
    {
     "data": {
      "text/html": [
       "<div>\n",
       "<style scoped>\n",
       "    .dataframe tbody tr th:only-of-type {\n",
       "        vertical-align: middle;\n",
       "    }\n",
       "\n",
       "    .dataframe tbody tr th {\n",
       "        vertical-align: top;\n",
       "    }\n",
       "\n",
       "    .dataframe thead th {\n",
       "        text-align: right;\n",
       "    }\n",
       "</style>\n",
       "<table border=\"1\" class=\"dataframe\">\n",
       "  <thead>\n",
       "    <tr style=\"text-align: right;\">\n",
       "      <th></th>\n",
       "      <th>x0</th>\n",
       "      <th>x1</th>\n",
       "      <th>x2</th>\n",
       "      <th>...</th>\n",
       "      <th>x8</th>\n",
       "      <th>x9</th>\n",
       "      <th>y</th>\n",
       "    </tr>\n",
       "  </thead>\n",
       "  <tbody>\n",
       "    <tr>\n",
       "      <th>0</th>\n",
       "      <td>1.699117</td>\n",
       "      <td>0.349756</td>\n",
       "      <td>-2.258060</td>\n",
       "      <td>...</td>\n",
       "      <td>-0.508544</td>\n",
       "      <td>-1.488765</td>\n",
       "      <td>-0.429603</td>\n",
       "    </tr>\n",
       "    <tr>\n",
       "      <th>1</th>\n",
       "      <td>-2.197462</td>\n",
       "      <td>-6.432639</td>\n",
       "      <td>2.918589</td>\n",
       "      <td>...</td>\n",
       "      <td>6.337288</td>\n",
       "      <td>-2.559108</td>\n",
       "      <td>-0.178579</td>\n",
       "    </tr>\n",
       "    <tr>\n",
       "      <th>2</th>\n",
       "      <td>-4.182656</td>\n",
       "      <td>0.887224</td>\n",
       "      <td>0.663901</td>\n",
       "      <td>...</td>\n",
       "      <td>4.315193</td>\n",
       "      <td>0.007157</td>\n",
       "      <td>-0.156251</td>\n",
       "    </tr>\n",
       "    <tr>\n",
       "      <th>3</th>\n",
       "      <td>6.940319</td>\n",
       "      <td>-1.165621</td>\n",
       "      <td>-2.064801</td>\n",
       "      <td>...</td>\n",
       "      <td>-7.801437</td>\n",
       "      <td>-1.132701</td>\n",
       "      <td>-2.152939</td>\n",
       "    </tr>\n",
       "    <tr>\n",
       "      <th>4</th>\n",
       "      <td>1.282403</td>\n",
       "      <td>5.070650</td>\n",
       "      <td>2.367716</td>\n",
       "      <td>...</td>\n",
       "      <td>-2.503487</td>\n",
       "      <td>0.725924</td>\n",
       "      <td>0.656936</td>\n",
       "    </tr>\n",
       "  </tbody>\n",
       "</table>\n",
       "<p>5 rows × 11 columns</p>\n",
       "</div>"
      ],
      "text/plain": [
       "         x0        x1        x2  ...        x8        x9         y\n",
       "0  1.699117  0.349756 -2.258060  ... -0.508544 -1.488765 -0.429603\n",
       "1 -2.197462 -6.432639  2.918589  ...  6.337288 -2.559108 -0.178579\n",
       "2 -4.182656  0.887224  0.663901  ...  4.315193  0.007157 -0.156251\n",
       "3  6.940319 -1.165621 -2.064801  ... -7.801437 -1.132701 -2.152939\n",
       "4  1.282403  5.070650  2.367716  ... -2.503487  0.725924  0.656936\n",
       "\n",
       "[5 rows x 11 columns]"
      ]
     },
     "execution_count": 30,
     "metadata": {},
     "output_type": "execute_result"
    }
   ],
   "source": [
    "from scipy.stats import wishart\n",
    "import pandas as pd\n",
    "pd.set_option('display.max_columns', 7)\n",
    "import numpy as np\n",
    "\n",
    "# generate the data\n",
    "n, p = 100, 10\n",
    "rv = wishart(df=p+1, scale=np.ones(p))\n",
    "cov = rv.rvs()\n",
    "X = np.random.multivariate_normal(np.zeros(p), cov, size=n)\n",
    "beta = np.ones(p) * 0.1\n",
    "y = X @ beta + np.random.normal(loc=0.0, scale=1.0, size=n)\n",
    "data = np.append(X, y[:, None], axis=1)\n",
    "covnames = [f\"x{x}\" for x in range(p)]\n",
    "df = pd.DataFrame(data, columns=covnames + [\"y\"])\n",
    "df.head()"
   ]
  },
  {
   "attachments": {},
   "cell_type": "markdown",
   "metadata": {},
   "source": [
    "## Reference model\n",
    "\n",
    "First, we have to construct a reference model for the projection predictive variable selection. This model is considered as the best (“reference”) solution to the prediction task. The aim of the projection predictive variable selection is to find a subset of a set of candidate predictors which is as small as possible but achieves a predictive performance as close as possible to that of the reference model.\n",
    "\n",
    "The rich reference model is a model we consider to be good in terms of predictive performance, and one we would be happy using as-is. Model selection then becomes applicable when we\n",
    "1. have a predictive rich model, but would like to reduce computational burden,\n",
    "2. would like to use a model more robust to changes in the data-generating distribution, or\n",
    "3. would like to gain a better understanding of important correlation structures.\n",
    "\n",
    "`kulprit` requires the `arviz.InferenceData` object associated with a fitted `bambi` reference model, as well as the `bambi.Model` object. This `Model` will define the search space in the projection predictive model selection procedure, and the `InferenceData` provides the posterior predictive distribution to emulate. In general, the `InferenceData` need not come from the `Model` object. In other words, `kulprit` naturally allows for the reference model to be different from the search space, affording the statistician the possibility to fit a non-parametric reference model but search through an interpretable space. For the sake of this demonstration, we will only consider nested submodels of the reference model."
   ]
  },
  {
   "cell_type": "code",
   "execution_count": 25,
   "metadata": {},
   "outputs": [
    {
     "data": {
      "text/html": [
       "\n",
       "    <div>\n",
       "      <progress value='8000' class='' max='8000' style='width:300px; height:20px; vertical-align: middle;'></progress>\n",
       "      100.00% [8000/8000 00:10&lt;00:00 Sampling 4 chains, 0 divergences]\n",
       "    </div>\n",
       "    "
      ],
      "text/plain": [
       "<IPython.core.display.HTML object>"
      ]
     },
     "metadata": {},
     "output_type": "display_data"
    },
    {
     "name": "stderr",
     "output_type": "stream",
     "text": [
      "Sampling 4 chains for 1_000 tune and 1_000 draw iterations (4_000 + 4_000 draws total) took 11 seconds.\n"
     ]
    }
   ],
   "source": [
    "import bambi as bmb\n",
    "import arviz as az\n",
    "\n",
    "# fit the reference model\n",
    "priors = {cov: bmb.Prior(\"Normal\", mu=0.0, sigma=1.0) for cov in covnames}\n",
    "model = bmb.Model(f\"y ~ {' + '.join(covnames)}\", df, family=\"gaussian\")\n",
    "idata = model.fit(draws=1000, chains=4, idata_kwargs={\"log_likelihood\": True})"
   ]
  },
  {
   "attachments": {},
   "cell_type": "markdown",
   "metadata": {},
   "source": [
    "Note that for model selection, **we require the `kwargs` argument to add the log-likelihood of the reference model to its `idata`**!!!\n",
    "\n",
    "We combine these object into a `kulprit.ReferenceModel` object as follows:"
   ]
  },
  {
   "cell_type": "code",
   "execution_count": 26,
   "metadata": {},
   "outputs": [],
   "source": [
    "import kulprit as kpt\n",
    "\n",
    "# intiate reference model\n",
    "ref_model = kpt.ReferenceModel(model, idata)"
   ]
  },
  {
   "attachments": {},
   "cell_type": "markdown",
   "metadata": {},
   "source": [
    "## Model selection\n",
    "\n",
    "Model selection in our case broadly consists of two components: the _search_ component and the _projection_ component.\n",
    "\n",
    "### Projection\n",
    "\n",
    "In essence, the \"projection\" stage of our model selection procued is achieved by fitting to the fit of the reference model. \n",
    "\n",
    "Denote $\\theta$ the parameters of the reference model, and $\\theta_\\perp$ those of some submodel. We are primarily interested in inferring submodel parameter values that optimise for prediction. In the original formulation by Goutis and Robert (1998), one looks to replace some reference model's posterior, denoted $p(\\theta\\mid \\mathcal{D})$ herein, with some restricted posterior $q(\\theta_\\perp)$ such that their induced posterior predictive distributions, $p(\\tilde{y} \\mid \\theta, \\mathcal{D})$ and $q(\\tilde{y}\\mid\\theta_\\perp)$, are as similar as possible. This similarity is quantified by Kullback-Leibler distance (KL; Kullback and Leibler, 1951). Formally, we aim to produce this restricted posterior $q(\\theta_\\perp)$ such that\n",
    "\n",
    "$$\n",
    "q(\\theta_\\perp) = {\\arg\\,\\min}_{q\\in\\mathscr{Q}(\\Theta)} \\mathbb{KL}\\{p(\\tilde{y}\\mid\\theta, \\mathcal{D}) \\mid q(\\tilde{y})\\}.\n",
    "$$\n",
    "\n",
    "### Search\n",
    "\n",
    "We currently account for two main methods of search: forward search, and Lasso-type search ($L_1$ search). We recommend that users favour forward search over $L_1$ search when searching up to $40$ covariates as it broadly produces \"better\" solution paths (by which we mean less selection-induced over-fitting).\n",
    "\n",
    "In forward search, we begin by projecting the reference model onto the \"empty\" (intercept-only) model, which acts as the root of our search tree. We then project the reference model onto all models with one predictor and the intercept term, and select the single-predictor model whose posterior predictive distribution is closest to the reference model's posterior predictive distribution (possibly coarsened by clustering or thinning the posterior draws) in KL divergence sense and as defined in Section~\\ref{sec:projpred}. Denote this first predictor to be selected $x^{(1)}$. Following this, we fit all size-two models including the intercept and $x^{(1)}$ (``size-two'' does not count the intercept here), and once more select the one closest to the reference model in terms of KL divergence of their posterior predictive distributions. Denote this second predictor to be selected $x^{(2)}$. This is repeated until either all predictors are selected, or some pre-defined limit on the model size is reached. Our solution path is then the list of predictors ordered by the stage at which they were selected: in our example $(\\text{Intercept}, x^{(1)},x^{(2)},\\dotsc)$. \n",
    "\n",
    "Tangentially, $L_1$ search can reduce computational cost by fitting a model with Lasso penalty to the in-sample predictions made by the reference model (thus, the $L_1$ search solves an $L_1$-penalised projection problem, whereas the forward search solves the original projection problem) and investigating the order in which the predictors enter the Lasso model."
   ]
  },
  {
   "cell_type": "code",
   "execution_count": 29,
   "metadata": {},
   "outputs": [
    {
     "ename": "ValueError",
     "evalue": "min() arg is an empty sequence",
     "output_type": "error",
     "traceback": [
      "\u001b[0;31m---------------------------------------------------------------------------\u001b[0m",
      "\u001b[0;31mValueError\u001b[0m                                Traceback (most recent call last)",
      "Cell \u001b[0;32mIn[29], line 1\u001b[0m\n\u001b[0;32m----> 1\u001b[0m ref_model\u001b[39m.\u001b[39;49msearch(method\u001b[39m=\u001b[39;49m\u001b[39m\"\u001b[39;49m\u001b[39mforward\u001b[39;49m\u001b[39m\"\u001b[39;49m)\n",
      "File \u001b[0;32m~/Desktop/kulprit/src/kulprit/reference.py:134\u001b[0m, in \u001b[0;36mReferenceModel.search\u001b[0;34m(self, max_terms, method, return_path)\u001b[0m\n\u001b[1;32m    127\u001b[0m     \u001b[39mraise\u001b[39;00m \u001b[39mUserWarning\u001b[39;00m(\n\u001b[1;32m    128\u001b[0m         \u001b[39m\"\u001b[39m\u001b[39mPlease ensure that the maximum number to consider in the \u001b[39m\u001b[39m\"\u001b[39m\n\u001b[1;32m    129\u001b[0m         \u001b[39m+\u001b[39m \u001b[39m\"\u001b[39m\u001b[39msubmodel search is between 1 and the number of terms in the \u001b[39m\u001b[39m\"\u001b[39m\n\u001b[1;32m    130\u001b[0m         \u001b[39m+\u001b[39m \u001b[39m\"\u001b[39m\u001b[39mreference model.\u001b[39m\u001b[39m\"\u001b[39m\n\u001b[1;32m    131\u001b[0m     )\n\u001b[1;32m    133\u001b[0m \u001b[39m# perform search through the parameter space\u001b[39;00m\n\u001b[0;32m--> 134\u001b[0m \u001b[39mself\u001b[39m\u001b[39m.\u001b[39mpath \u001b[39m=\u001b[39m \u001b[39mself\u001b[39;49m\u001b[39m.\u001b[39;49msearcher\u001b[39m.\u001b[39;49msearch(\n\u001b[1;32m    135\u001b[0m     max_terms\u001b[39m=\u001b[39;49mmax_terms,\n\u001b[1;32m    136\u001b[0m     method\u001b[39m=\u001b[39;49mmethod,\n\u001b[1;32m    137\u001b[0m )\n\u001b[1;32m    139\u001b[0m \u001b[39m# return the path dictionary if specified\u001b[39;00m\n\u001b[1;32m    140\u001b[0m \u001b[39mif\u001b[39;00m return_path:  \u001b[39m# pragma: no cover\u001b[39;00m\n",
      "File \u001b[0;32m~/Desktop/kulprit/src/kulprit/search/searcher.py:67\u001b[0m, in \u001b[0;36mSearcher.search\u001b[0;34m(self, max_terms, method)\u001b[0m\n\u001b[1;32m     64\u001b[0m \u001b[39mself\u001b[39m\u001b[39m.\u001b[39mpath \u001b[39m=\u001b[39m \u001b[39mself\u001b[39m\u001b[39m.\u001b[39mmethod_dict[method](\u001b[39mself\u001b[39m\u001b[39m.\u001b[39mprojector)\n\u001b[1;32m     66\u001b[0m \u001b[39m# perform the search according to the chosen heuristic\u001b[39;00m\n\u001b[0;32m---> 67\u001b[0m k_submodels \u001b[39m=\u001b[39m \u001b[39mself\u001b[39;49m\u001b[39m.\u001b[39;49mpath\u001b[39m.\u001b[39;49msearch(max_terms\u001b[39m=\u001b[39;49mmax_terms)\n\u001b[1;32m     69\u001b[0m \u001b[39m# toggle indicator variable and return search path\u001b[39;00m\n\u001b[1;32m     70\u001b[0m \u001b[39mself\u001b[39m\u001b[39m.\u001b[39msearch_completed \u001b[39m=\u001b[39m \u001b[39mTrue\u001b[39;00m\n",
      "File \u001b[0;32m~/Desktop/kulprit/src/kulprit/search/forward.py:113\u001b[0m, in \u001b[0;36mForwardSearchPath.search\u001b[0;34m(self, max_terms)\u001b[0m\n\u001b[1;32m    108\u001b[0m k_projections \u001b[39m=\u001b[39m [\n\u001b[1;32m    109\u001b[0m     \u001b[39mself\u001b[39m\u001b[39m.\u001b[39mprojector\u001b[39m.\u001b[39mproject(terms\u001b[39m=\u001b[39mcandidate) \u001b[39mfor\u001b[39;00m candidate \u001b[39min\u001b[39;00m k_candidates\n\u001b[1;32m    110\u001b[0m ]\n\u001b[1;32m    112\u001b[0m \u001b[39m# identify the best candidate by loss (equivalent to KL min)\u001b[39;00m\n\u001b[0;32m--> 113\u001b[0m best_submodel \u001b[39m=\u001b[39m \u001b[39mmin\u001b[39;49m(k_projections, key\u001b[39m=\u001b[39;49m\u001b[39mlambda\u001b[39;49;00m projection: projection\u001b[39m.\u001b[39;49mloss)\n\u001b[1;32m    114\u001b[0m best_loss \u001b[39m=\u001b[39m best_submodel\u001b[39m.\u001b[39mloss\n\u001b[1;32m    116\u001b[0m \u001b[39m# retrieve the best candidate's term names and indices\u001b[39;00m\n",
      "\u001b[0;31mValueError\u001b[0m: min() arg is an empty sequence"
     ]
    }
   ],
   "source": [
    "ref_model.search(method=\"forward\")"
   ]
  },
  {
   "attachments": {},
   "cell_type": "markdown",
   "metadata": {},
   "source": [
    "### Model size selection\n",
    "\n",
    "We now do not reason directly on the submodels, but rather their sizes. That is to say that we presently look to select the smallest submodel size, say $k$, such that\n",
    "\n",
    "$$\n",
    "k = {\\arg\\,\\min}_{k=1,\\dotsc,p_\\text{max}} \\left\\{  \\right\\}\n",
    "$$"
   ]
  },
  {
   "cell_type": "code",
   "execution_count": 78,
   "metadata": {},
   "outputs": [
    {
     "name": "stderr",
     "output_type": "stream",
     "text": [
      "/Users/yannmclatchie/Desktop/kulprit/.venv/lib/python3.9/site-packages/arviz/stats/stats.py:803: UserWarning: Estimated shape parameter of Pareto distribution is greater than 0.7 for one or more samples. You should consider using a more robust model, this is because importance sampling is less likely to work well if the marginal posterior and LOO posterior are very different. This is more likely to happen with a non-robust model and highly influential observations.\n",
      "  warnings.warn(\n",
      "/Users/yannmclatchie/Desktop/kulprit/.venv/lib/python3.9/site-packages/arviz/stats/stats.py:803: UserWarning: Estimated shape parameter of Pareto distribution is greater than 0.7 for one or more samples. You should consider using a more robust model, this is because importance sampling is less likely to work well if the marginal posterior and LOO posterior are very different. This is more likely to happen with a non-robust model and highly influential observations.\n",
      "  warnings.warn(\n",
      "/Users/yannmclatchie/Desktop/kulprit/.venv/lib/python3.9/site-packages/arviz/stats/stats.py:803: UserWarning: Estimated shape parameter of Pareto distribution is greater than 0.7 for one or more samples. You should consider using a more robust model, this is because importance sampling is less likely to work well if the marginal posterior and LOO posterior are very different. This is more likely to happen with a non-robust model and highly influential observations.\n",
      "  warnings.warn(\n",
      "/Users/yannmclatchie/Desktop/kulprit/.venv/lib/python3.9/site-packages/arviz/stats/stats.py:803: UserWarning: Estimated shape parameter of Pareto distribution is greater than 0.7 for one or more samples. You should consider using a more robust model, this is because importance sampling is less likely to work well if the marginal posterior and LOO posterior are very different. This is more likely to happen with a non-robust model and highly influential observations.\n",
      "  warnings.warn(\n",
      "/Users/yannmclatchie/Desktop/kulprit/.venv/lib/python3.9/site-packages/arviz/stats/stats.py:803: UserWarning: Estimated shape parameter of Pareto distribution is greater than 0.7 for one or more samples. You should consider using a more robust model, this is because importance sampling is less likely to work well if the marginal posterior and LOO posterior are very different. This is more likely to happen with a non-robust model and highly influential observations.\n",
      "  warnings.warn(\n"
     ]
    },
    {
     "data": {
      "text/html": [
       "<div>\n",
       "<style scoped>\n",
       "    .dataframe tbody tr th:only-of-type {\n",
       "        vertical-align: middle;\n",
       "    }\n",
       "\n",
       "    .dataframe tbody tr th {\n",
       "        vertical-align: top;\n",
       "    }\n",
       "\n",
       "    .dataframe thead th {\n",
       "        text-align: right;\n",
       "    }\n",
       "</style>\n",
       "<table border=\"1\" class=\"dataframe\">\n",
       "  <thead>\n",
       "    <tr style=\"text-align: right;\">\n",
       "      <th></th>\n",
       "      <th>rank</th>\n",
       "      <th>elpd_loo</th>\n",
       "      <th>p_loo</th>\n",
       "      <th>elpd_diff</th>\n",
       "      <th>weight</th>\n",
       "      <th>se</th>\n",
       "      <th>dse</th>\n",
       "      <th>warning</th>\n",
       "      <th>scale</th>\n",
       "    </tr>\n",
       "  </thead>\n",
       "  <tbody>\n",
       "    <tr>\n",
       "      <th>10</th>\n",
       "      <td>0</td>\n",
       "      <td>-144.768040</td>\n",
       "      <td>11.074187</td>\n",
       "      <td>0.000000</td>\n",
       "      <td>0.672893</td>\n",
       "      <td>7.205273</td>\n",
       "      <td>0.000000</td>\n",
       "      <td>False</td>\n",
       "      <td>log</td>\n",
       "    </tr>\n",
       "    <tr>\n",
       "      <th>3</th>\n",
       "      <td>1</td>\n",
       "      <td>-145.610787</td>\n",
       "      <td>10.048673</td>\n",
       "      <td>0.842747</td>\n",
       "      <td>0.327107</td>\n",
       "      <td>7.541875</td>\n",
       "      <td>2.243628</td>\n",
       "      <td>True</td>\n",
       "      <td>log</td>\n",
       "    </tr>\n",
       "    <tr>\n",
       "      <th>4</th>\n",
       "      <td>2</td>\n",
       "      <td>-147.337071</td>\n",
       "      <td>12.324956</td>\n",
       "      <td>2.569032</td>\n",
       "      <td>0.000000</td>\n",
       "      <td>7.571955</td>\n",
       "      <td>1.987422</td>\n",
       "      <td>True</td>\n",
       "      <td>log</td>\n",
       "    </tr>\n",
       "    <tr>\n",
       "      <th>5</th>\n",
       "      <td>3</td>\n",
       "      <td>-148.735823</td>\n",
       "      <td>13.728220</td>\n",
       "      <td>3.967783</td>\n",
       "      <td>0.000000</td>\n",
       "      <td>7.821317</td>\n",
       "      <td>2.036561</td>\n",
       "      <td>False</td>\n",
       "      <td>log</td>\n",
       "    </tr>\n",
       "    <tr>\n",
       "      <th>6</th>\n",
       "      <td>4</td>\n",
       "      <td>-151.574983</td>\n",
       "      <td>16.879502</td>\n",
       "      <td>6.806943</td>\n",
       "      <td>0.000000</td>\n",
       "      <td>7.983922</td>\n",
       "      <td>1.755028</td>\n",
       "      <td>True</td>\n",
       "      <td>log</td>\n",
       "    </tr>\n",
       "    <tr>\n",
       "      <th>7</th>\n",
       "      <td>5</td>\n",
       "      <td>-156.096329</td>\n",
       "      <td>21.630274</td>\n",
       "      <td>11.328289</td>\n",
       "      <td>0.000000</td>\n",
       "      <td>8.892048</td>\n",
       "      <td>2.382780</td>\n",
       "      <td>True</td>\n",
       "      <td>log</td>\n",
       "    </tr>\n",
       "    <tr>\n",
       "      <th>8</th>\n",
       "      <td>6</td>\n",
       "      <td>-158.017003</td>\n",
       "      <td>23.966065</td>\n",
       "      <td>13.248964</td>\n",
       "      <td>0.000000</td>\n",
       "      <td>9.107283</td>\n",
       "      <td>2.095473</td>\n",
       "      <td>True</td>\n",
       "      <td>log</td>\n",
       "    </tr>\n",
       "    <tr>\n",
       "      <th>2</th>\n",
       "      <td>7</td>\n",
       "      <td>-457.274410</td>\n",
       "      <td>0.019536</td>\n",
       "      <td>312.506371</td>\n",
       "      <td>0.000000</td>\n",
       "      <td>7.958641</td>\n",
       "      <td>11.235270</td>\n",
       "      <td>False</td>\n",
       "      <td>log</td>\n",
       "    </tr>\n",
       "    <tr>\n",
       "      <th>1</th>\n",
       "      <td>8</td>\n",
       "      <td>-496.260825</td>\n",
       "      <td>0.006159</td>\n",
       "      <td>351.492785</td>\n",
       "      <td>0.000000</td>\n",
       "      <td>7.340056</td>\n",
       "      <td>10.389015</td>\n",
       "      <td>False</td>\n",
       "      <td>log</td>\n",
       "    </tr>\n",
       "    <tr>\n",
       "      <th>0</th>\n",
       "      <td>9</td>\n",
       "      <td>-549.373372</td>\n",
       "      <td>0.001506</td>\n",
       "      <td>404.605333</td>\n",
       "      <td>0.000000</td>\n",
       "      <td>6.517828</td>\n",
       "      <td>8.624884</td>\n",
       "      <td>False</td>\n",
       "      <td>log</td>\n",
       "    </tr>\n",
       "  </tbody>\n",
       "</table>\n",
       "</div>"
      ],
      "text/plain": [
       "    rank    elpd_loo      p_loo   elpd_diff    weight        se        dse  \\\n",
       "10     0 -144.768040  11.074187    0.000000  0.672893  7.205273   0.000000   \n",
       "3      1 -145.610787  10.048673    0.842747  0.327107  7.541875   2.243628   \n",
       "4      2 -147.337071  12.324956    2.569032  0.000000  7.571955   1.987422   \n",
       "5      3 -148.735823  13.728220    3.967783  0.000000  7.821317   2.036561   \n",
       "6      4 -151.574983  16.879502    6.806943  0.000000  7.983922   1.755028   \n",
       "7      5 -156.096329  21.630274   11.328289  0.000000  8.892048   2.382780   \n",
       "8      6 -158.017003  23.966065   13.248964  0.000000  9.107283   2.095473   \n",
       "2      7 -457.274410   0.019536  312.506371  0.000000  7.958641  11.235270   \n",
       "1      8 -496.260825   0.006159  351.492785  0.000000  7.340056  10.389015   \n",
       "0      9 -549.373372   0.001506  404.605333  0.000000  6.517828   8.624884   \n",
       "\n",
       "    warning scale  \n",
       "10    False   log  \n",
       "3      True   log  \n",
       "4      True   log  \n",
       "5     False   log  \n",
       "6      True   log  \n",
       "7      True   log  \n",
       "8      True   log  \n",
       "2     False   log  \n",
       "1     False   log  \n",
       "0     False   log  "
      ]
     },
     "execution_count": 78,
     "metadata": {},
     "output_type": "execute_result"
    },
    {
     "data": {
      "image/png": "[encoded data removed]",
      "text/plain": [
       "<Figure size 600x1000 with 1 Axes>"
      ]
     },
     "metadata": {},
     "output_type": "display_data"
    }
   ],
   "source": [
    "# compare submodels found in the search by LOO-CV ELPD\n",
    "cmp, ax = ref_model.loo_compare(plot=True, scale=\"log\");\n",
    "cmp"
   ]
  },
  {
   "attachments": {},
   "cell_type": "markdown",
   "metadata": {},
   "source": [
    "[^1]: $\\tilde{y}$ is random variable sampled from some distribution. We will later see expectations taken with respect to $\\tilde{y}$ under some sample distribution $p$, denoted $\\mathbb{E}_{\\tilde{y}\\sim p}[\\cdot]$."
   ]
  },
  {
   "cell_type": "markdown",
   "metadata": {},
   "source": []
  }
 ],
 "metadata": {
  "kernelspec": {
   "display_name": ".venv",
   "language": "python",
   "name": "python3"
  },
  "language_info": {
   "codemirror_mode": {
    "name": "ipython",
    "version": 3
   },
   "file_extension": ".py",
   "mimetype": "text/x-python",
   "name": "python",
   "nbconvert_exporter": "python",
   "pygments_lexer": "ipython3",
   "version": "3.9.12"
  },
  "orig_nbformat": 4,
  "vscode": {
   "interpreter": {
    "hash": "9b2b7df85e895e1c4316290f5aaf26982dcc1b162585921f2ab63d2757844866"
   }
  }
 },
 "nbformat": 4,
 "nbformat_minor": 2
}
