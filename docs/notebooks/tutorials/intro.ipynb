{
 "cells": [
  {
   "cell_type": "markdown",
   "metadata": {},
   "source": [
    "# kulprit: Kullback-Leibler projections for Bayesian model selection in Python\n",
    "\n",
    "## Introduction to projection predictive model selection\n",
    "\n",
    "The Bayesian community has recently witnessed a rapid growth in theoretical and applied contributions to building and selecting predictive models. Projection predictive inference, based on the ideas of Goutis and Robert (1998) and Dupuis and Robert (2003), in particular has shown promise in doing so, finding application in medical statistics and deep learning. It is less prone to over-fitting than naïve selection based purely on cross-validated performance metrics, and has been known to out-perform the maximum _a posteriori_ model in terms of predictive performance."
   ]
  },
  {
   "cell_type": "code",
   "execution_count": 1,
   "metadata": {},
   "outputs": [],
   "source": [
    "from scipy.stats import wishart\n",
    "import pandas as pd\n",
    "pd.set_option('display.max_columns', 7)\n",
    "import numpy as np\n",
    "\n",
    "import bambi as bmb\n",
    "import arviz as az\n",
    "\n",
    "import kulprit as kpt"
   ]
  },
  {
   "cell_type": "markdown",
   "metadata": {},
   "source": [
    "## Data\n",
    "\n",
    "For this tutorial we will use some simple simulated data following a Gaussian observation model. We simulate $n = 100$ samples from $p = 10$ covariates of which $5$ are informative using `sklearn`."
   ]
  },
  {
   "cell_type": "code",
   "execution_count": 2,
   "metadata": {},
   "outputs": [
    {
     "data": {
      "text/html": [
       "<div>\n",
       "<style scoped>\n",
       "    .dataframe tbody tr th:only-of-type {\n",
       "        vertical-align: middle;\n",
       "    }\n",
       "\n",
       "    .dataframe tbody tr th {\n",
       "        vertical-align: top;\n",
       "    }\n",
       "\n",
       "    .dataframe thead th {\n",
       "        text-align: right;\n",
       "    }\n",
       "</style>\n",
       "<table border=\"1\" class=\"dataframe\">\n",
       "  <thead>\n",
       "    <tr style=\"text-align: right;\">\n",
       "      <th></th>\n",
       "      <th>x0</th>\n",
       "      <th>x1</th>\n",
       "      <th>x2</th>\n",
       "      <th>...</th>\n",
       "      <th>x8</th>\n",
       "      <th>x9</th>\n",
       "      <th>y</th>\n",
       "    </tr>\n",
       "  </thead>\n",
       "  <tbody>\n",
       "    <tr>\n",
       "      <th>0</th>\n",
       "      <td>-0.943383</td>\n",
       "      <td>-1.070672</td>\n",
       "      <td>-1.653382</td>\n",
       "      <td>...</td>\n",
       "      <td>-1.400000</td>\n",
       "      <td>-0.952440</td>\n",
       "      <td>0.486203</td>\n",
       "    </tr>\n",
       "    <tr>\n",
       "      <th>1</th>\n",
       "      <td>1.761268</td>\n",
       "      <td>-1.977657</td>\n",
       "      <td>-1.594943</td>\n",
       "      <td>...</td>\n",
       "      <td>-0.072341</td>\n",
       "      <td>3.175359</td>\n",
       "      <td>-1.070263</td>\n",
       "    </tr>\n",
       "    <tr>\n",
       "      <th>2</th>\n",
       "      <td>-4.276825</td>\n",
       "      <td>-1.036299</td>\n",
       "      <td>-4.955668</td>\n",
       "      <td>...</td>\n",
       "      <td>-2.239332</td>\n",
       "      <td>-2.198146</td>\n",
       "      <td>-2.076639</td>\n",
       "    </tr>\n",
       "    <tr>\n",
       "      <th>3</th>\n",
       "      <td>1.813086</td>\n",
       "      <td>0.098643</td>\n",
       "      <td>-3.901631</td>\n",
       "      <td>...</td>\n",
       "      <td>1.527741</td>\n",
       "      <td>0.464747</td>\n",
       "      <td>3.058706</td>\n",
       "    </tr>\n",
       "    <tr>\n",
       "      <th>4</th>\n",
       "      <td>-1.363592</td>\n",
       "      <td>2.215948</td>\n",
       "      <td>-0.196600</td>\n",
       "      <td>...</td>\n",
       "      <td>-0.303044</td>\n",
       "      <td>-1.719838</td>\n",
       "      <td>0.273011</td>\n",
       "    </tr>\n",
       "  </tbody>\n",
       "</table>\n",
       "<p>5 rows × 11 columns</p>\n",
       "</div>"
      ],
      "text/plain": [
       "         x0        x1        x2  ...        x8        x9         y\n",
       "0 -0.943383 -1.070672 -1.653382  ... -1.400000 -0.952440  0.486203\n",
       "1  1.761268 -1.977657 -1.594943  ... -0.072341  3.175359 -1.070263\n",
       "2 -4.276825 -1.036299 -4.955668  ... -2.239332 -2.198146 -2.076639\n",
       "3  1.813086  0.098643 -3.901631  ...  1.527741  0.464747  3.058706\n",
       "4 -1.363592  2.215948 -0.196600  ... -0.303044 -1.719838  0.273011\n",
       "\n",
       "[5 rows x 11 columns]"
      ]
     },
     "execution_count": 2,
     "metadata": {},
     "output_type": "execute_result"
    }
   ],
   "source": [
    "# generate the data\n",
    "n, p = 100, 10\n",
    "rv = wishart(df=p+1, scale=np.ones(p))\n",
    "cov = rv.rvs()\n",
    "X = np.random.multivariate_normal(np.zeros(p), cov, size=n)\n",
    "beta = np.ones(p) * 0.1\n",
    "y = X @ beta + np.random.normal(loc=0.0, scale=1.0, size=n)\n",
    "data = np.append(X, y[:, None], axis=1)\n",
    "covnames = [f\"x{x}\" for x in range(p)]\n",
    "df = pd.DataFrame(data, columns=covnames + [\"y\"])\n",
    "df.head()"
   ]
  },
  {
   "cell_type": "markdown",
   "metadata": {},
   "source": [
    "## Reference model\n",
    "\n",
    "First, we have to construct a reference model for the projection predictive variable selection. This model is considered as the best (“reference”) solution to the prediction task. The aim of the projection predictive variable selection is to find a subset of candidate predictors which is as small as possible but achieves a predictive performance as close as possible to that of the reference model.\n",
    "\n",
    "The rich reference model is a model we consider to be good in terms of predictive performance, and one we would be happy using as-is. Model selection then becomes applicable when we\n",
    "1. have a predictive rich model, but would like to reduce computational burden, or\n",
    "2. would like to gain a better understanding of important correlation structures.\n",
    "\n",
    "`kulprit` requires the `arviz.InferenceData` object associated with a fitted `bambi` reference model, as well as the `bambi.Model` object. This `Model` will define the search space in the projection predictive model selection procedure, and the `InferenceData` provides the posterior predictive distribution to emulate. In general, the `InferenceData` need not come from the `Model` object. In other words, `kulprit` naturally allows for the reference model to be different from the search space, affording the statistician the possibility to fit a non-parametric reference model but search through an interpretable space. For the sake of this demonstration, we will only consider nested submodels of the reference model.\n",
    "\n",
    "In this case study, we will fit a simple linear regression with independent standard Gaussian priors over the parameters"
   ]
  },
  {
   "cell_type": "code",
   "execution_count": 3,
   "metadata": {},
   "outputs": [
    {
     "name": "stderr",
     "output_type": "stream",
     "text": [
      "Auto-assigning NUTS sampler...\n",
      "Initializing NUTS using jitter+adapt_diag...\n",
      "Multiprocess sampling (4 chains in 4 jobs)\n",
      "NUTS: [y_sigma, Intercept, x0, x1, x2, x3, x4, x5, x6, x7, x8, x9]\n"
     ]
    },
    {
     "data": {
      "text/html": [
       "\n",
       "<style>\n",
       "    /* Turns off some styling */\n",
       "    progress {\n",
       "        /* gets rid of default border in Firefox and Opera. */\n",
       "        border: none;\n",
       "        /* Needs to be in here for Safari polyfill so background images work as expected. */\n",
       "        background-size: auto;\n",
       "    }\n",
       "    progress:not([value]), progress:not([value])::-webkit-progress-bar {\n",
       "        background: repeating-linear-gradient(45deg, #7e7e7e, #7e7e7e 10px, #5c5c5c 10px, #5c5c5c 20px);\n",
       "    }\n",
       "    .progress-bar-interrupted, .progress-bar-interrupted::-webkit-progress-bar {\n",
       "        background: #F44336;\n",
       "    }\n",
       "</style>\n"
      ],
      "text/plain": [
       "<IPython.core.display.HTML object>"
      ]
     },
     "metadata": {},
     "output_type": "display_data"
    },
    {
     "data": {
      "text/html": [
       "\n",
       "    <div>\n",
       "      <progress value='8000' class='' max='8000' style='width:300px; height:20px; vertical-align: middle;'></progress>\n",
       "      100.00% [8000/8000 00:06&lt;00:00 Sampling 4 chains, 0 divergences]\n",
       "    </div>\n",
       "    "
      ],
      "text/plain": [
       "<IPython.core.display.HTML object>"
      ]
     },
     "metadata": {},
     "output_type": "display_data"
    },
    {
     "name": "stderr",
     "output_type": "stream",
     "text": [
      "Sampling 4 chains for 1_000 tune and 1_000 draw iterations (4_000 + 4_000 draws total) took 6 seconds.\n"
     ]
    }
   ],
   "source": [
    "# fit the reference model\n",
    "#priors = {cov: bmb.Prior(\"Normal\", mu=0.0, sigma=1.0) for cov in covnames}\n",
    "model = bmb.Model(f\"y ~ 1 + {' + '.join(covnames)}\", df, family=\"gaussian\")\n",
    "idata = model.fit(draws=1000, chains=4, idata_kwargs={\"log_likelihood\": True})"
   ]
  },
  {
   "cell_type": "markdown",
   "metadata": {},
   "source": [
    "Note that for model selection, **we require the `kwargs` argument to add the log-likelihood of the reference model to its `idata`**!!!\n",
    "\n",
    "We combine these object into a `kulprit.ReferenceModel` object as follows:"
   ]
  },
  {
   "cell_type": "code",
   "execution_count": 4,
   "metadata": {},
   "outputs": [],
   "source": [
    "# intiate reference model\n",
    "ref_model = kpt.ReferenceModel(model, idata)"
   ]
  },
  {
   "cell_type": "markdown",
   "metadata": {},
   "source": [
    "## Model selection\n",
    "\n",
    "Model selection in our case broadly consists of two components: the _search_ component and the _projection_ component.\n",
    "\n",
    "### Projection\n",
    "\n",
    "In essence, the \"projection\" stage of our model selection procued is achieved by fitting to the fit of the reference model. \n",
    "\n",
    "Denote $\\theta$ the parameters of the reference model, and $\\theta_\\perp$ those of some submodel. We are primarily interested in inferring submodel parameter values that optimise for prediction. In the original formulation by Goutis and Robert (1998), one looks to replace some reference model's posterior, denoted $p(\\theta\\mid \\mathcal{D})$ herein, with some restricted posterior $q(\\theta_\\perp)$ such that their induced posterior predictive distributions, $p(\\tilde{y} \\mid \\theta, \\mathcal{D})$ and $q(\\tilde{y}\\mid\\theta_\\perp)$, are as similar as possible. This similarity is quantified by Kullback-Leibler distance (KL; Kullback and Leibler, 1951). Formally, we aim to produce this restricted posterior $q(\\theta_\\perp)$ such that\n",
    "\n",
    "$$\n",
    "q(\\theta_\\perp) = {\\arg\\,\\min}_{q\\in\\mathscr{Q}(\\Theta)} \\mathbb{KL}\\{p(\\tilde{y}\\mid\\theta, \\mathcal{D}) \\mid q(\\tilde{y})\\}.\n",
    "$$\n",
    "\n",
    "### Search\n",
    "\n",
    "We currently account for two main methods of search: forward search, and Lasso-type search ($L_1$ search). We recommend that users favour forward search over $L_1$ search when searching up to $40$ covariates as it broadly produces \"better\" solution paths (by which we mean less selection-induced over-fitting).\n",
    "\n",
    "In forward search, we begin by projecting the reference model onto the \"empty\" (intercept-only) model, which acts as the root of our search tree. We then project the reference model onto all models with one predictor and the intercept term, and select the single-predictor model whose posterior predictive distribution is closest to the reference model's posterior predictive distribution (possibly coarsened by clustering or thinning the posterior draws) in KL divergence sense and as defined in Section~\\ref{sec:projpred}. Denote this first predictor to be selected $x^{(1)}$. Following this, we fit all size-two models including the intercept and $x^{(1)}$ (``size-two'' does not count the intercept here), and once more select the one closest to the reference model in terms of KL divergence of their posterior predictive distributions. Denote this second predictor to be selected $x^{(2)}$. This is repeated until either all predictors are selected, or some pre-defined limit on the model size is reached. Our solution path is then the list of predictors ordered by the stage at which they were selected: in our example $(\\text{Intercept}, x^{(1)},x^{(2)},\\dotsc)$. \n",
    "\n",
    "Tangentially, $L_1$ search can reduce computational cost by fitting a model with Lasso penalty to the in-sample predictions made by the reference model (thus, the $L_1$ search solves an $L_1$-penalised projection problem, whereas the forward search solves the original projection problem) and investigating the order in which the predictors enter the Lasso model."
   ]
  },
  {
   "cell_type": "code",
   "execution_count": 5,
   "metadata": {
    "scrolled": false
   },
   "outputs": [],
   "source": [
    "ref_model.search(method=\"forward\")"
   ]
  },
  {
   "cell_type": "code",
   "execution_count": 6,
   "metadata": {},
   "outputs": [
    {
     "data": {
      "text/plain": [
       "SubModel(model=       Formula: y ~ x8 + x5 + x3\n",
       "        Family: gaussian\n",
       "          Link: mu = identity\n",
       "  Observations: 100\n",
       "        Priors: \n",
       "    target = mu\n",
       "        Common-level effects\n",
       "            Intercept ~ Normal(mu: 0.0971, sigma: 2.9053)\n",
       "            x8 ~ Normal(mu: 0.0, sigma: 0.8615)\n",
       "            x5 ~ Normal(mu: 0.0, sigma: 1.1888)\n",
       "            x3 ~ Normal(mu: 0.0, sigma: 0.6)\n",
       "        \n",
       "        Auxiliary parameters\n",
       "            y_sigma ~ HalfStudentT(nu: 4.0, sigma: 1.1399), idata=Inference data with groups:\n",
       "\t> posterior\n",
       "\t> log_likelihood\n",
       "\t> observed_data, loss=145.2938697547586, size=3, term_names=['x8', 'x5', 'x3'])"
      ]
     },
     "execution_count": 6,
     "metadata": {},
     "output_type": "execute_result"
    }
   ],
   "source": [
    "ref_model.path[3]"
   ]
  },
  {
   "cell_type": "markdown",
   "metadata": {},
   "source": [
    "### Model size selection\n",
    "\n",
    "We now do not reason directly on the submodels, but rather their sizes. That is to say that we presently look to select the smallest submodel size, say $k$, such that\n",
    "\n",
    "$$\n",
    "k = {\\arg\\,\\min}_{k=1,\\dotsc,p_\\text{max}} \\left\\{  \\right\\}\n",
    "$$"
   ]
  },
  {
   "cell_type": "code",
   "execution_count": 7,
   "metadata": {
    "scrolled": false
   },
   "outputs": [
    {
     "name": "stderr",
     "output_type": "stream",
     "text": [
      "/Users/yannmclatchie/Desktop/kulprit/.venv/lib/python3.9/site-packages/arviz/stats/stats.py:803: UserWarning: Estimated shape parameter of Pareto distribution is greater than 0.7 for one or more samples. You should consider using a more robust model, this is because importance sampling is less likely to work well if the marginal posterior and LOO posterior are very different. This is more likely to happen with a non-robust model and highly influential observations.\n",
      "  warnings.warn(\n",
      "/Users/yannmclatchie/Desktop/kulprit/.venv/lib/python3.9/site-packages/arviz/stats/stats.py:803: UserWarning: Estimated shape parameter of Pareto distribution is greater than 0.7 for one or more samples. You should consider using a more robust model, this is because importance sampling is less likely to work well if the marginal posterior and LOO posterior are very different. This is more likely to happen with a non-robust model and highly influential observations.\n",
      "  warnings.warn(\n",
      "/Users/yannmclatchie/Desktop/kulprit/.venv/lib/python3.9/site-packages/arviz/stats/stats.py:803: UserWarning: Estimated shape parameter of Pareto distribution is greater than 0.7 for one or more samples. You should consider using a more robust model, this is because importance sampling is less likely to work well if the marginal posterior and LOO posterior are very different. This is more likely to happen with a non-robust model and highly influential observations.\n",
      "  warnings.warn(\n",
      "/Users/yannmclatchie/Desktop/kulprit/.venv/lib/python3.9/site-packages/arviz/stats/stats.py:803: UserWarning: Estimated shape parameter of Pareto distribution is greater than 0.7 for one or more samples. You should consider using a more robust model, this is because importance sampling is less likely to work well if the marginal posterior and LOO posterior are very different. This is more likely to happen with a non-robust model and highly influential observations.\n",
      "  warnings.warn(\n",
      "/Users/yannmclatchie/Desktop/kulprit/.venv/lib/python3.9/site-packages/arviz/stats/stats.py:803: UserWarning: Estimated shape parameter of Pareto distribution is greater than 0.7 for one or more samples. You should consider using a more robust model, this is because importance sampling is less likely to work well if the marginal posterior and LOO posterior are very different. This is more likely to happen with a non-robust model and highly influential observations.\n",
      "  warnings.warn(\n",
      "/Users/yannmclatchie/Desktop/kulprit/.venv/lib/python3.9/site-packages/arviz/stats/stats.py:803: UserWarning: Estimated shape parameter of Pareto distribution is greater than 0.7 for one or more samples. You should consider using a more robust model, this is because importance sampling is less likely to work well if the marginal posterior and LOO posterior are very different. This is more likely to happen with a non-robust model and highly influential observations.\n",
      "  warnings.warn(\n",
      "/Users/yannmclatchie/Desktop/kulprit/.venv/lib/python3.9/site-packages/arviz/stats/stats.py:803: UserWarning: Estimated shape parameter of Pareto distribution is greater than 0.7 for one or more samples. You should consider using a more robust model, this is because importance sampling is less likely to work well if the marginal posterior and LOO posterior are very different. This is more likely to happen with a non-robust model and highly influential observations.\n",
      "  warnings.warn(\n",
      "/Users/yannmclatchie/Desktop/kulprit/.venv/lib/python3.9/site-packages/arviz/stats/stats.py:803: UserWarning: Estimated shape parameter of Pareto distribution is greater than 0.7 for one or more samples. You should consider using a more robust model, this is because importance sampling is less likely to work well if the marginal posterior and LOO posterior are very different. This is more likely to happen with a non-robust model and highly influential observations.\n",
      "  warnings.warn(\n"
     ]
    },
    {
     "data": {
      "text/html": [
       "<div>\n",
       "<style scoped>\n",
       "    .dataframe tbody tr th:only-of-type {\n",
       "        vertical-align: middle;\n",
       "    }\n",
       "\n",
       "    .dataframe tbody tr th {\n",
       "        vertical-align: top;\n",
       "    }\n",
       "\n",
       "    .dataframe thead th {\n",
       "        text-align: right;\n",
       "    }\n",
       "</style>\n",
       "<table border=\"1\" class=\"dataframe\">\n",
       "  <thead>\n",
       "    <tr style=\"text-align: right;\">\n",
       "      <th></th>\n",
       "      <th>rank</th>\n",
       "      <th>elpd_loo</th>\n",
       "      <th>p_loo</th>\n",
       "      <th>...</th>\n",
       "      <th>dse</th>\n",
       "      <th>warning</th>\n",
       "      <th>scale</th>\n",
       "    </tr>\n",
       "  </thead>\n",
       "  <tbody>\n",
       "    <tr>\n",
       "      <th>5</th>\n",
       "      <td>0</td>\n",
       "      <td>-148.580860</td>\n",
       "      <td>13.816210</td>\n",
       "      <td>...</td>\n",
       "      <td>0.000000</td>\n",
       "      <td>True</td>\n",
       "      <td>log</td>\n",
       "    </tr>\n",
       "    <tr>\n",
       "      <th>3</th>\n",
       "      <td>1</td>\n",
       "      <td>-149.201237</td>\n",
       "      <td>9.264592</td>\n",
       "      <td>...</td>\n",
       "      <td>3.219791</td>\n",
       "      <td>True</td>\n",
       "      <td>log</td>\n",
       "    </tr>\n",
       "    <tr>\n",
       "      <th>4</th>\n",
       "      <td>2</td>\n",
       "      <td>-149.716806</td>\n",
       "      <td>11.404356</td>\n",
       "      <td>...</td>\n",
       "      <td>2.848168</td>\n",
       "      <td>True</td>\n",
       "      <td>log</td>\n",
       "    </tr>\n",
       "    <tr>\n",
       "      <th>6</th>\n",
       "      <td>3</td>\n",
       "      <td>-151.361385</td>\n",
       "      <td>18.580462</td>\n",
       "      <td>...</td>\n",
       "      <td>2.557434</td>\n",
       "      <td>True</td>\n",
       "      <td>log</td>\n",
       "    </tr>\n",
       "    <tr>\n",
       "      <th>2</th>\n",
       "      <td>4</td>\n",
       "      <td>-152.178804</td>\n",
       "      <td>6.951817</td>\n",
       "      <td>...</td>\n",
       "      <td>4.735596</td>\n",
       "      <td>False</td>\n",
       "      <td>log</td>\n",
       "    </tr>\n",
       "    <tr>\n",
       "      <th>1</th>\n",
       "      <td>5</td>\n",
       "      <td>-153.231231</td>\n",
       "      <td>3.706282</td>\n",
       "      <td>...</td>\n",
       "      <td>5.412857</td>\n",
       "      <td>False</td>\n",
       "      <td>log</td>\n",
       "    </tr>\n",
       "    <tr>\n",
       "      <th>7</th>\n",
       "      <td>6</td>\n",
       "      <td>-154.481095</td>\n",
       "      <td>22.415494</td>\n",
       "      <td>...</td>\n",
       "      <td>2.896282</td>\n",
       "      <td>True</td>\n",
       "      <td>log</td>\n",
       "    </tr>\n",
       "    <tr>\n",
       "      <th>8</th>\n",
       "      <td>7</td>\n",
       "      <td>-157.403741</td>\n",
       "      <td>25.281449</td>\n",
       "      <td>...</td>\n",
       "      <td>3.098390</td>\n",
       "      <td>True</td>\n",
       "      <td>log</td>\n",
       "    </tr>\n",
       "    <tr>\n",
       "      <th>0</th>\n",
       "      <td>8</td>\n",
       "      <td>-158.167116</td>\n",
       "      <td>2.442947</td>\n",
       "      <td>...</td>\n",
       "      <td>6.007726</td>\n",
       "      <td>False</td>\n",
       "      <td>log</td>\n",
       "    </tr>\n",
       "    <tr>\n",
       "      <th>9</th>\n",
       "      <td>9</td>\n",
       "      <td>-164.101117</td>\n",
       "      <td>32.170558</td>\n",
       "      <td>...</td>\n",
       "      <td>4.037842</td>\n",
       "      <td>True</td>\n",
       "      <td>log</td>\n",
       "    </tr>\n",
       "    <tr>\n",
       "      <th>10</th>\n",
       "      <td>10</td>\n",
       "      <td>-166.222103</td>\n",
       "      <td>34.192149</td>\n",
       "      <td>...</td>\n",
       "      <td>3.924487</td>\n",
       "      <td>True</td>\n",
       "      <td>log</td>\n",
       "    </tr>\n",
       "  </tbody>\n",
       "</table>\n",
       "<p>11 rows × 9 columns</p>\n",
       "</div>"
      ],
      "text/plain": [
       "    rank    elpd_loo      p_loo  ...       dse  warning  scale\n",
       "5      0 -148.580860  13.816210  ...  0.000000     True    log\n",
       "3      1 -149.201237   9.264592  ...  3.219791     True    log\n",
       "4      2 -149.716806  11.404356  ...  2.848168     True    log\n",
       "6      3 -151.361385  18.580462  ...  2.557434     True    log\n",
       "2      4 -152.178804   6.951817  ...  4.735596    False    log\n",
       "1      5 -153.231231   3.706282  ...  5.412857    False    log\n",
       "7      6 -154.481095  22.415494  ...  2.896282     True    log\n",
       "8      7 -157.403741  25.281449  ...  3.098390     True    log\n",
       "0      8 -158.167116   2.442947  ...  6.007726    False    log\n",
       "9      9 -164.101117  32.170558  ...  4.037842     True    log\n",
       "10    10 -166.222103  34.192149  ...  3.924487     True    log\n",
       "\n",
       "[11 rows x 9 columns]"
      ]
     },
     "execution_count": 7,
     "metadata": {},
     "output_type": "execute_result"
    },
    {
     "data": {
      "image/png": "[encoded data removed]",
      "text/plain": [
       "<Figure size 600x1100 with 1 Axes>"
      ]
     },
     "metadata": {},
     "output_type": "display_data"
    }
   ],
   "source": [
    "# compare submodels found in the search by LOO-CV ELPD\n",
    "cmp, ax = ref_model.loo_compare(plot=True);\n",
    "cmp"
   ]
  },
  {
   "cell_type": "code",
   "execution_count": 8,
   "metadata": {},
   "outputs": [
    {
     "data": {
      "text/plain": [
       "Computed from 4000 posterior samples and 100 observations log-likelihood matrix.\n",
       "\n",
       "         Estimate       SE\n",
       "elpd_loo  -143.98     6.95\n",
       "p_loo       11.93        -\n",
       "------\n",
       "\n",
       "Pareto k diagnostic values:\n",
       "                         Count   Pct.\n",
       "(-Inf, 0.5]   (good)       98   98.0%\n",
       " (0.5, 0.7]   (ok)          2    2.0%\n",
       "   (0.7, 1]   (bad)         0    0.0%\n",
       "   (1, Inf)   (very bad)    0    0.0%"
      ]
     },
     "execution_count": 8,
     "metadata": {},
     "output_type": "execute_result"
    }
   ],
   "source": [
    "az.loo(idata)"
   ]
  },
  {
   "cell_type": "markdown",
   "metadata": {},
   "source": [
    "[^1]: $\\tilde{y}$ is random variable sampled from some distribution. We will later see expectations taken with respect to $\\tilde{y}$ under some sample distribution $p$, denoted $\\mathbb{E}_{\\tilde{y}\\sim p}[\\cdot]$."
   ]
  }
 ],
 "metadata": {
  "kernelspec": {
   "display_name": "Python 3 (ipykernel)",
   "language": "python",
   "name": "python3"
  },
  "language_info": {
   "codemirror_mode": {
    "name": "ipython",
    "version": 3
   },
   "file_extension": ".py",
   "mimetype": "text/x-python",
   "name": "python",
   "nbconvert_exporter": "python",
   "pygments_lexer": "ipython3",
   "version": "3.9.6"
  },
  "vscode": {
   "interpreter": {
    "hash": "9b2b7df85e895e1c4316290f5aaf26982dcc1b162585921f2ab63d2757844866"
   }
  }
 },
 "nbformat": 4,
 "nbformat_minor": 2
}
