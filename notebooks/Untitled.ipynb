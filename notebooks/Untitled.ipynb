{
 "cells": [
  {
   "cell_type": "code",
   "execution_count": 1,
   "id": "6908a84b",
   "metadata": {},
   "outputs": [
    {
     "name": "stderr",
     "output_type": "stream",
     "text": [
      "/Users/yannmclatchie/Desktop/kulprit/.venv/lib/python3.7/site-packages/statsmodels/tools/_testing.py:19: FutureWarning: pandas.util.testing is deprecated. Use the functions in the public API at pandas.testing instead.\n",
      "  import pandas.util.testing as tm\n"
     ]
    }
   ],
   "source": [
    "from abc import ABC, abstractmethod\n",
    "\n",
    "import torch\n",
    "\n",
    "import pandas as pd\n",
    "import numpy as np\n",
    "\n",
    "import bambi as bmb"
   ]
  },
  {
   "cell_type": "code",
   "execution_count": 20,
   "id": "ca8510ce",
   "metadata": {},
   "outputs": [],
   "source": [
    "class Family(ABC):\n",
    "    \"\"\"Kullback-Leibler divergence functions switch class.\"\"\"\n",
    "    \n",
    "    subclasses = {}\n",
    "\n",
    "    def __init__(self):\n",
    "        super().__init__()\n",
    "\n",
    "    def __init_subclass__(cls, **kwargs):\n",
    "        super().__init_subclass__(**kwargs)\n",
    "        cls.subclasses[cls._FAMILY_NAME] = cls\n",
    "\n",
    "    @abstractmethod\n",
    "    def kl_div(self):\n",
    "        pass\n",
    "\n",
    "    @classmethod\n",
    "    def create(cls, family_name):\n",
    "        if family_name not in cls.subclasses:\n",
    "            raise NotImplementedError(\"Unsupported family.\")\n",
    "\n",
    "        return cls.subclasses[family_name]()\n",
    "    \n",
    "    \n",
    "class Gaussian(Family):\n",
    "    _FAMILY_NAME = \"gaussian\"\n",
    "\n",
    "    def __init__(self):\n",
    "        super().__init__()\n",
    "        self.has_disp_params = True\n",
    "\n",
    "    def kl_div(self, y_ast, y_perp):\n",
    "        \"\"\"Kullback-Leibler divergence between two Gaussians surrogate function.\n",
    "\n",
    "        Args:\n",
    "            mu_ast (torch.tensor): Tensor of learned reference model parameters\n",
    "            mu_perp (torch.tensor): Tensor of submodel parameters to learn\n",
    "\n",
    "        Returns:\n",
    "            torch.tensor: Tensor of shape () containing sample KL divergence\n",
    "        \"\"\"\n",
    "\n",
    "        # compute sufficient statistics\n",
    "        mu_ast, mu_perp = torch.mean(y_ast), torch.mean(y_perp)\n",
    "        std_ast, std_perp = torch.std(y_ast), torch.std(y_perp)\n",
    "        # compute KL divergence using full formula\n",
    "        div = (\n",
    "            torch.log(std_perp / std_ast)\n",
    "            + (std_ast**2 + (mu_ast - mu_perp) ** 2) / (2 * std_perp**2)\n",
    "            - 1 / 2\n",
    "        )\n",
    "        assert div.shape == (), f\"Expected data dimensions {()}, received {div.shape}.\"\n",
    "        return div\n",
    "\n",
    "    def project_disp_params(self):\n",
    "        \"Project the dispersion parameters of the distribution analytically.\"\n",
    "\n",
    "        pass"
   ]
  },
  {
   "cell_type": "code",
   "execution_count": 25,
   "id": "2fe0c5d7",
   "metadata": {},
   "outputs": [
    {
     "ename": "TypeError",
     "evalue": "Can't instantiate abstract class NewFamily with abstract methods kl_div",
     "output_type": "error",
     "traceback": [
      "\u001b[0;31m---------------------------------------------------------------------------\u001b[0m",
      "\u001b[0;31mTypeError\u001b[0m                                 Traceback (most recent call last)",
      "\u001b[0;32m/var/folders/cc/_d222yw95_z9_c1v3vtq_9hc0000gn/T/ipykernel_15044/2274316685.py\u001b[0m in \u001b[0;36m<module>\u001b[0;34m\u001b[0m\n\u001b[1;32m      7\u001b[0m \u001b[0;34m\u001b[0m\u001b[0m\n\u001b[1;32m      8\u001b[0m \u001b[0mdraws\u001b[0m \u001b[0;34m=\u001b[0m \u001b[0mtorch\u001b[0m\u001b[0;34m.\u001b[0m\u001b[0mfrom_numpy\u001b[0m\u001b[0;34m(\u001b[0m\u001b[0mnp\u001b[0m\u001b[0;34m.\u001b[0m\u001b[0mrandom\u001b[0m\u001b[0;34m.\u001b[0m\u001b[0mnormal\u001b[0m\u001b[0;34m(\u001b[0m\u001b[0;36m0\u001b[0m\u001b[0;34m,\u001b[0m \u001b[0;36m1\u001b[0m\u001b[0;34m,\u001b[0m \u001b[0;36m100\u001b[0m\u001b[0;34m)\u001b[0m\u001b[0;34m)\u001b[0m\u001b[0;34m.\u001b[0m\u001b[0mfloat\u001b[0m\u001b[0;34m(\u001b[0m\u001b[0;34m)\u001b[0m\u001b[0;34m\u001b[0m\u001b[0;34m\u001b[0m\u001b[0m\n\u001b[0;32m----> 9\u001b[0;31m \u001b[0mfamily\u001b[0m \u001b[0;34m=\u001b[0m \u001b[0mFamily\u001b[0m\u001b[0;34m.\u001b[0m\u001b[0mcreate\u001b[0m\u001b[0;34m(\u001b[0m\u001b[0;34m\"my_new_family\"\u001b[0m\u001b[0;34m)\u001b[0m\u001b[0;34m\u001b[0m\u001b[0;34m\u001b[0m\u001b[0m\n\u001b[0m",
      "\u001b[0;32m/var/folders/cc/_d222yw95_z9_c1v3vtq_9hc0000gn/T/ipykernel_15044/1126193321.py\u001b[0m in \u001b[0;36mcreate\u001b[0;34m(cls, family_name)\u001b[0m\n\u001b[1;32m     20\u001b[0m             \u001b[0;32mraise\u001b[0m \u001b[0mNotImplementedError\u001b[0m\u001b[0;34m(\u001b[0m\u001b[0;34m\"Unsupported family.\"\u001b[0m\u001b[0;34m)\u001b[0m\u001b[0;34m\u001b[0m\u001b[0;34m\u001b[0m\u001b[0m\n\u001b[1;32m     21\u001b[0m \u001b[0;34m\u001b[0m\u001b[0m\n\u001b[0;32m---> 22\u001b[0;31m         \u001b[0;32mreturn\u001b[0m \u001b[0mcls\u001b[0m\u001b[0;34m.\u001b[0m\u001b[0msubclasses\u001b[0m\u001b[0;34m[\u001b[0m\u001b[0mfamily_name\u001b[0m\u001b[0;34m]\u001b[0m\u001b[0;34m(\u001b[0m\u001b[0;34m)\u001b[0m\u001b[0;34m\u001b[0m\u001b[0;34m\u001b[0m\u001b[0m\n\u001b[0m\u001b[1;32m     23\u001b[0m \u001b[0;34m\u001b[0m\u001b[0m\n\u001b[1;32m     24\u001b[0m \u001b[0;34m\u001b[0m\u001b[0m\n",
      "\u001b[0;31mTypeError\u001b[0m: Can't instantiate abstract class NewFamily with abstract methods kl_div"
     ]
    }
   ],
   "source": [
    "class NewFamily(Family):\n",
    "    _FAMILY_NAME = \"my_new_family\"\n",
    "\n",
    "    def __init__(self):\n",
    "        super().__init__()\n",
    "\n",
    "\n",
    "draws = torch.from_numpy(np.random.normal(0, 1, 100)).float()\n",
    "family = Family.create(\"my_new_family\")"
   ]
  },
  {
   "cell_type": "code",
   "execution_count": 23,
   "id": "d6c40d07",
   "metadata": {},
   "outputs": [
    {
     "data": {
      "text/plain": [
       "tensor(True)"
      ]
     },
     "execution_count": 23,
     "metadata": {},
     "output_type": "execute_result"
    }
   ],
   "source": [
    "draws = torch.from_numpy(np.random.normal(0, 1, 100)).float()\n",
    "family = Family.create(\"gaussian\")\n",
    "family.kl_div(draws, draws) == 0."
   ]
  },
  {
   "cell_type": "code",
   "execution_count": 24,
   "id": "a53a46f1",
   "metadata": {},
   "outputs": [
    {
     "ename": "NotImplementedError",
     "evalue": "Unsupported family.",
     "output_type": "error",
     "traceback": [
      "\u001b[0;31m---------------------------------------------------------------------------\u001b[0m",
      "\u001b[0;31mNotImplementedError\u001b[0m                       Traceback (most recent call last)",
      "\u001b[0;32m/var/folders/cc/_d222yw95_z9_c1v3vtq_9hc0000gn/T/ipykernel_15044/1171942194.py\u001b[0m in \u001b[0;36m<module>\u001b[0;34m\u001b[0m\n\u001b[0;32m----> 1\u001b[0;31m \u001b[0mfamily\u001b[0m \u001b[0;34m=\u001b[0m \u001b[0mFamily\u001b[0m\u001b[0;34m.\u001b[0m\u001b[0mcreate\u001b[0m\u001b[0;34m(\u001b[0m\u001b[0;34m\"my_new_family\"\u001b[0m\u001b[0;34m)\u001b[0m\u001b[0;34m\u001b[0m\u001b[0;34m\u001b[0m\u001b[0m\n\u001b[0m\u001b[1;32m      2\u001b[0m \u001b[0mfamily\u001b[0m\u001b[0;34m.\u001b[0m\u001b[0mkl_div\u001b[0m\u001b[0;34m(\u001b[0m\u001b[0;36m1\u001b[0m\u001b[0;34m,\u001b[0m \u001b[0;36m2\u001b[0m\u001b[0;34m)\u001b[0m\u001b[0;34m\u001b[0m\u001b[0;34m\u001b[0m\u001b[0m\n",
      "\u001b[0;32m/var/folders/cc/_d222yw95_z9_c1v3vtq_9hc0000gn/T/ipykernel_15044/1126193321.py\u001b[0m in \u001b[0;36mcreate\u001b[0;34m(cls, family_name)\u001b[0m\n\u001b[1;32m     18\u001b[0m     \u001b[0;32mdef\u001b[0m \u001b[0mcreate\u001b[0m\u001b[0;34m(\u001b[0m\u001b[0mcls\u001b[0m\u001b[0;34m,\u001b[0m \u001b[0mfamily_name\u001b[0m\u001b[0;34m)\u001b[0m\u001b[0;34m:\u001b[0m\u001b[0;34m\u001b[0m\u001b[0;34m\u001b[0m\u001b[0m\n\u001b[1;32m     19\u001b[0m         \u001b[0;32mif\u001b[0m \u001b[0mfamily_name\u001b[0m \u001b[0;32mnot\u001b[0m \u001b[0;32min\u001b[0m \u001b[0mcls\u001b[0m\u001b[0;34m.\u001b[0m\u001b[0msubclasses\u001b[0m\u001b[0;34m:\u001b[0m\u001b[0;34m\u001b[0m\u001b[0;34m\u001b[0m\u001b[0m\n\u001b[0;32m---> 20\u001b[0;31m             \u001b[0;32mraise\u001b[0m \u001b[0mNotImplementedError\u001b[0m\u001b[0;34m(\u001b[0m\u001b[0;34m\"Unsupported family.\"\u001b[0m\u001b[0;34m)\u001b[0m\u001b[0;34m\u001b[0m\u001b[0;34m\u001b[0m\u001b[0m\n\u001b[0m\u001b[1;32m     21\u001b[0m \u001b[0;34m\u001b[0m\u001b[0m\n\u001b[1;32m     22\u001b[0m         \u001b[0;32mreturn\u001b[0m \u001b[0mcls\u001b[0m\u001b[0;34m.\u001b[0m\u001b[0msubclasses\u001b[0m\u001b[0;34m[\u001b[0m\u001b[0mfamily_name\u001b[0m\u001b[0;34m]\u001b[0m\u001b[0;34m(\u001b[0m\u001b[0;34m)\u001b[0m\u001b[0;34m\u001b[0m\u001b[0;34m\u001b[0m\u001b[0m\n",
      "\u001b[0;31mNotImplementedError\u001b[0m: Unsupported family."
     ]
    }
   ],
   "source": [
    "family = Family.create(\"my_new_family\")\n",
    "family.kl_div(1, 2)"
   ]
  },
  {
   "cell_type": "code",
   "execution_count": 5,
   "id": "8e470b43",
   "metadata": {},
   "outputs": [],
   "source": [
    "# define model data\n",
    "data = pd.DataFrame({\n",
    "    \"y\": np.random.normal(size=50),\n",
    "    \"g\": np.random.choice([\"Yes\", \"No\"], size=50),\n",
    "    \"x1\": np.random.normal(size=50),\n",
    "    \"x2\": np.random.normal(size=50)\n",
    "})\n",
    "# define and fit model with MCMC\n",
    "model = bmb.Model(\"y ~ -1 + x1 + x2\", data, family=\"gaussian\")"
   ]
  },
  {
   "cell_type": "code",
   "execution_count": 8,
   "id": "62182ced",
   "metadata": {},
   "outputs": [
    {
     "data": {
      "text/plain": [
       "False"
      ]
     },
     "execution_count": 8,
     "metadata": {},
     "output_type": "execute_result"
    }
   ],
   "source": [
    "model.intercept_term is not None"
   ]
  },
  {
   "cell_type": "code",
   "execution_count": null,
   "id": "841f4c21",
   "metadata": {},
   "outputs": [],
   "source": []
  }
 ],
 "metadata": {
  "kernelspec": {
   "display_name": "Python 3 (ipykernel)",
   "language": "python",
   "name": "python3"
  },
  "language_info": {
   "codemirror_mode": {
    "name": "ipython",
    "version": 3
   },
   "file_extension": ".py",
   "mimetype": "text/x-python",
   "name": "python",
   "nbconvert_exporter": "python",
   "pygments_lexer": "ipython3",
   "version": "3.7.2"
  }
 },
 "nbformat": 4,
 "nbformat_minor": 5
}
