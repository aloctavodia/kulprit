{
 "cells": [
  {
   "cell_type": "code",
   "execution_count": null,
   "id": "92ef6fe8",
   "metadata": {
    "scrolled": false
   },
   "outputs": [],
   "source": [
    "import pandas as pd\n",
    "import numpy as np\n",
    "\n",
    "import bambi as bmb\n",
    "import kulprit as kpt\n",
    "\n",
    "import arviz as az\n",
    "import matplotlib.pyplot as plt\n",
    "\n",
    "# define model data\n",
    "data = pd.DataFrame({\n",
    "    \"y\": np.random.normal(size=50),\n",
    "    \"g\": np.random.choice([\"Yes\", \"No\"], size=50),\n",
    "    \"x1\": np.random.normal(size=50),\n",
    "    \"x2\": np.random.normal(size=50)\n",
    "})\n",
    "# define and fit model with MCMC\n",
    "model = bmb.Model(\"y ~ x1 + x2\", data, family=\"gaussian\")\n",
    "num_draws, num_chains = 50, 2\n",
    "posterior = model.fit(draws=num_draws, chains=num_chains)\n",
    "# build reference model object\n",
    "ref_model = kpt.Projector(model, posterior)\n",
    "# project the reference model to some parameter subset\n",
    "params = [\"x1\", \"x2\"]\n",
    "theta_perp = ref_model.project(params=params)\n",
    "print(theta_perp.shape)\n",
    "# visualise the projected model posterior\n",
    "ref_model.plot_projection(params=params)"
   ]
  },
  {
   "cell_type": "code",
   "execution_count": null,
   "id": "4d4449e2",
   "metadata": {},
   "outputs": [],
   "source": [
    "az.plot_posterior(posterior, var_names=[\"Intercept\", \"x1\", \"x2\"])\n",
    "plt.show()"
   ]
  },
  {
   "cell_type": "code",
   "execution_count": null,
   "id": "c5f5b43c",
   "metadata": {},
   "outputs": [],
   "source": []
  }
 ],
 "metadata": {
  "kernelspec": {
   "display_name": "Python 3 (ipykernel)",
   "language": "python",
   "name": "python3"
  },
  "language_info": {
   "codemirror_mode": {
    "name": "ipython",
    "version": 3
   },
   "file_extension": ".py",
   "mimetype": "text/x-python",
   "name": "python",
   "nbconvert_exporter": "python",
   "pygments_lexer": "ipython3",
   "version": "3.7.2"
  }
 },
 "nbformat": 4,
 "nbformat_minor": 5
}
